{
  "nbformat": 4,
  "nbformat_minor": 0,
  "metadata": {
    "colab": {
      "provenance": []
    },
    "kernelspec": {
      "name": "python3",
      "display_name": "Python 3"
    },
    "language_info": {
      "name": "python"
    }
  },
  "cells": [
    {
      "cell_type": "markdown",
      "source": [
        "#RESTFUL API & FLASK ASSIGNMENT\n",
        "\n",
        "##THEORETICAL QUESTIONS/ANSWERS\n",
        "\n",
        "\n",
        "*1. What is a RESTful API?*\n",
        "\n",
        "ANSWER1: A RESTful API (Representational State Transfer) is an architectural style for designing networked applications. It uses HTTP methods (GET, POST, PUT, DELETE) to perform operations on resources, which are represented by URIs (Uniform Resource Identifiers).\n",
        "\n",
        "*Example:*\n",
        "\n",
        "    http\n",
        "    GET /users           # Get all users\n",
        "    POST /users          # Create a new user\n",
        "    GET /users/1         # Get user with ID 1\n",
        "    PUT /users/1         # Update user with ID 1\n",
        "    DELETE /users/1      # Delete user with ID 1\n",
        "\n",
        "---\n",
        "Q*2. Explain the concept of API specification.*\n",
        "\n",
        "ANSWER2: API specification defines how an API should behave.It provides a clear understanding of how to interact with the API,including its endpoints,requestparameters,reponse formatsand authentication methods. It includes:\n",
        "\n",
        "* *Endpoints* (URLs)\n",
        "* *Methods* (GET, POST, etc.)\n",
        "* *Request & Response formats*\n",
        "* *Authentication*\n",
        "* *Error codes*\n",
        "\n",
        "*Example tools:* OpenAPI (Swagger), RAML.\n",
        "\n",
        "---\n",
        "\n",
        "Q*3. What is Flask, and why is it popular for building APIs?*\n",
        "\n",
        "ANSWER3:Flask is a lightweight,flexible,extensible Python web framework. It's popular because:\n",
        "\n",
        "* It's easy to learn and use.\n",
        "* Has minimal setup.\n",
        "* Supports extensions like Flask-RESTful, SQLAlchemy.\n",
        "* Perfect for small to medium REST APIs.\n",
        "---\n",
        "\n",
        "Q*4. What is routing in Flask?*\n",
        "\n",
        "ANSWER4:Routing in Flask is the process of associating a URL (or endpoint) with a specific function that handles requests to that URL. The @app.route() decorator is used to define routes in Flask.\n",
        "\n",
        "*Example:*\n",
        "\n",
        "    from flask import Flask\n",
        "    app = Flask(__name__)\n",
        "\n",
        "    @app.route('/hello')\n",
        "    def hello():\n",
        "      return \"Hello, World!\"\n",
        "\n",
        "---\n",
        "\n",
        "Q*5. How do you create a simple Flask application?*\n",
        "\n",
        "ANSWER5.A simple Flask application can be created by:\n",
        "\n",
        "1.Importing the Flask class.\n",
        "\n",
        "2.Creating an instance of the Flask class.\n",
        "\n",
        "3.Defining routes using the @app.route() decorator.\n",
        "\n",
        "4.Running the application with app.run().\n",
        "\n",
        "*Example:*\n",
        "\n",
        "    from flask import Flask\n",
        "\n",
        "    app = Flask(__name__)\n",
        "\n",
        "    @app.route('/')\n",
        "    def home():\n",
        "        return \"Welcome to Flask!\"\n",
        "\n",
        "    if __name__ == '__main__':\n",
        "        app.run(debug=True)\n",
        "---\n",
        "\n",
        "Q*6. What are HTTP methods used in RESTful APIs?*\n",
        "\n",
        "ANSWER6.Common HTTP methods used in RESTful API include:-\n",
        "\n",
        "* *GET* – Retrieve data\n",
        "* *POST* – Create new data\n",
        "* *PUT* – Update existing data\n",
        "* *DELETE* – Remove data\n",
        "* *PATCH* – Partial update\n",
        "\n",
        "---\n",
        "\n",
        "Q*7. What is the purpose of the @app.route() decorator in Flask?*\n",
        "\n",
        "ANSWER7.It binds a URL to a function. It tells Flask what URL should trigger which function.\n",
        "\n",
        "*Example:*\n",
        "\n",
        "    python\n",
        "    @app.route('/about')\n",
        "    def about():\n",
        "       return \"About Page\"\n",
        "---\n",
        "\n",
        "Q*8. What is the difference between GET and POST HTTP methods?*\n",
        "\n",
        "ANSWER8.The difference between GET and POST HTTP methods are:-\n",
        "\n",
        "* *GET* is used to retrieve data. Parameters are sent in the URL.\n",
        "* *POST* is used to send data to the server. Data is sent in the request body.\n",
        "\n",
        "---\n",
        "\n",
        "Q*9. How do you handle errors in Flask APIs?*\n",
        "\n",
        "ANSWER9.Error handlers: Define functions that handle specific error codes (e.g., 404, 500).\n",
        "\n",
        "Exception handling: Use try...except blocks to catch exceptions and return appropriate error responses.\n",
        "\n",
        "HTTP status codes: Return the appropriate HTTP status code to indicate success or failure (e.g., 200, 400, 404).\n",
        "\n",
        "*Example:*\n",
        "\n",
        "    @app.errorhandler(404)\n",
        "    def not_found(error):\n",
        "       return {\"error\": \"Not found\"}, 404\n",
        "\n",
        "---\n",
        "\n",
        "Q*10. How do you connect Flask to a SQL database?*\n",
        "\n",
        "ANSWER10. You can connect Flask to SQL database by Using *Flask-SQLAlchemy*.\n",
        "\n",
        "*Example:*\n",
        "\n",
        "    from flask_sqlalchemy import SQLAlchemy\n",
        "    app.config['SQLALCHEMY_DATABASE_URI'] = 'sqlite:///mydb.sqlite3'\n",
        "    db = SQLAlchemy(app)\n",
        "---\n",
        "\n",
        "Q*11. What is the role of Flask-SQLAlchemy?*\n",
        "\n",
        "ANSWER11. It integrates SQLAlchemy ORM with Flask, allowing easy database management.In other words it provides an easy to use interface for interacting with relationnal databases.\n",
        "\n",
        "---\n",
        "\n",
        "Q*12. What are Flask blueprints, and how are they useful?*\n",
        "\n",
        "ANSWER12.Blueprints organize Flask apps into modules. Useful for large applications.Blueprints are a way to organize a Flask application into smaller, reusable components. They are useful for building larger applications by breaking them down into modules, promoting code reusability, and improving organization.\n",
        "\n",
        "*Example:*\n",
        "\n",
        "    from flask import Blueprint\n",
        "\n",
        "    admin_bp = Blueprint('admin', __name__)\n",
        "\n",
        "    @admin_bp.route('/dashboard')\n",
        "    def dashboard():\n",
        "       return \"Admin Dashboard\"\n",
        "---\n",
        "\n",
        "Q*13. What is the purpose of Flask's request object?*\n",
        "\n",
        "ANSWER13.The Flask request object allows you to access information about incoming HTTP requests. It provides access to data like the request method (GET, POST, etc.), the URL path, query parameters, headers, and any data sent in the request body\n",
        "\n",
        "*Example:*\n",
        "\n",
        "    from flask import request\n",
        "    name = request.form['name']\n",
        "---\n",
        "\n",
        "Q*14. How do you create a RESTful API endpoint using Flask?*\n",
        "\n",
        "ANSWER14.Create a function that handles the specific request method (GET, POST, PUT, DELETE) for the endpoint.\n",
        "\n",
        "Decorate this function with the app.route() decorator, specifying the URL route and the HTTP method(s) allowed.\n",
        "\n",
        "Return a JSON response using the jsonify() function to provide data in a structured format.\n",
        "\n",
        "For more complex RESTful APIs, consider using the Flask-RESTful extension.\n",
        "\n",
        "\n",
        "*Example:*\n",
        "\n",
        "    @app.route('/api/data', methods=['GET'])\n",
        "    def get_data():\n",
        "       return {\"data\": \"example\"}\n",
        "---\n",
        "\n",
        "Q*15. What is the purpose of Flask’s jsonify() function?*\n",
        "\n",
        "ANSWER15.It converts Python dictionaries into JSON responses.It returns a Flask response object with the Content-Type header set to application/json, ensuring that clients receive the data in the correct format.\n",
        "\n",
        "\n",
        "*Example:*\n",
        "\n",
        "    from flask import jsonify\n",
        "    return jsonify({'name': 'John'})\n",
        "---\n",
        "\n",
        "Q*16. Explain Flask's url\\_for() function.*\n",
        "\n",
        "ANSWER16.The url_for() function dynamically generates URLs based on view functions and their associated endpoint names.\n",
        "It's useful for creating links within templates or within the application's code, ensuring that URLs are generated correctly regardless of how the application's routes are configured.\n",
        "\n",
        "*Example:*\n",
        "\n",
        "    url_for('home')  # Returns \"/\"\n",
        "---\n",
        "\n",
        "Q*17. How does Flask handle static files (CSS, JavaScript, etc.)?*\n",
        "\n",
        "ANSWER17.Place files in a /static/ folder and access via /static/filename.Flask automatically serves static files from a directory named \"static\" (or a specified directory) located within the Flask application's package.\n",
        "\n",
        "---\n",
        "\n",
        "Q*18. What is an API specification, and how does it help in building a Flask API?*\n",
        "\n",
        "ANSWER18.An API specification (like OpenAPI/Swagger) defines the structure and behavior of an API in a machine-readable format.\n",
        "It helps in documenting the API, generating client SDKs, and validating API requests.\n",
        "Tools like Connexion can be used to generate Flask API endpoints based on an OpenAPI specification.\n",
        "\n",
        "---\n",
        "\n",
        "Q*19. What are HTTP status codes, and why are they important in a Flask API?*\n",
        "\n",
        "ANSWER19.HTTP status codes are three-digit codes that indicate the outcome of an HTTP request.\n",
        "They are crucial for communicating the success or failure of a request to the client.\n",
        "\n",
        "*Examples:*\n",
        "\n",
        "* 200 OK\n",
        "* 201 Created\n",
        "* 400 Bad Request\n",
        "* 404 Not Found\n",
        "* 500 Server Error\n",
        "\n",
        "---\n",
        "\n",
        "Q*20. How do you handle POST requests in Flask?*\n",
        "\n",
        "ANSWER20.In Flask, POST requests are handled by defining a route that specifies the HTTP method as POST, and then accessing the data from the request using the request.form or request.get_json() objects, depending on the type of data sent\n",
        "\n",
        "*Example:*\n",
        "\n",
        "    @app.route('/submit', methods=['POST'])\n",
        "    def submit():\n",
        "       data = request.get_json()\n",
        "       return jsonify(data), 201\n",
        "---\n",
        "\n",
        "Q*21. How would you secure a Flask API?*\n",
        "\n",
        "* Use HTTPS\n",
        "* Input validation\n",
        "* Authentication (JWT, OAuth)\n",
        "* Rate limiting\n",
        "* Use Flask extensions like Flask-JWT or Flask-Login\n",
        "\n",
        "---\n",
        "\n",
        "Q*22. What is the significance of the Flask-RESTful extension?*\n",
        "\n",
        "ANSWER22.The Flask-RESTful extension provides a way to build RESTful APIs in Flask by providing a structured way to define resources, request parsing, and output formatting. It simplifies the process of creating APIs by providing a consistent way to handle common REST API tasks.\n",
        "\n",
        "---\n",
        "\n",
        "Q*23. What is the role of Flask’s session object?*\n",
        "\n",
        "ANSWER23.Used to store user-specific data (like login state) across requests. The data is stored on the server in a temporary directory. It is useful for maintaining user state across multiple requests, such as storing login information or user preferences.\n",
        "\n",
        "*Example:*\n",
        "\n",
        "    from flask import session\n",
        "    session['user'] = 'admin'\n",
        "---"
      ],
      "metadata": {
        "id": "WmcQk6jz0tKO"
      }
    },
    {
      "cell_type": "markdown",
      "source": [
        "##PRACTICAL QUESTIONS/ANSWERS\n",
        "Q1. How do you create a basic Flask application?\n",
        "\n"
      ],
      "metadata": {
        "id": "r4Cs1UZLdM0h"
      }
    },
    {
      "cell_type": "code",
      "source": [
        "from flask import Flask\n",
        "\n",
        "app = Flask(__name__)\n",
        "\n",
        "@app.route('/')\n",
        "def home():\n",
        "    return \"Welcome to Flask!\"\n",
        "\n",
        "if __name__ == '__main__':\n",
        "    app.run(debug=True)"
      ],
      "metadata": {
        "colab": {
          "base_uri": "https://localhost:8080/"
        },
        "id": "EocKRlfieOS-",
        "outputId": "d69243c7-6740-45b0-f240-54a8146f9eb6"
      },
      "execution_count": null,
      "outputs": [
        {
          "output_type": "stream",
          "name": "stdout",
          "text": [
            " * Serving Flask app '__main__'\n",
            " * Debug mode: on\n"
          ]
        },
        {
          "output_type": "stream",
          "name": "stderr",
          "text": [
            "INFO:werkzeug:\u001b[31m\u001b[1mWARNING: This is a development server. Do not use it in a production deployment. Use a production WSGI server instead.\u001b[0m\n",
            " * Running on http://127.0.0.1:5000\n",
            "INFO:werkzeug:\u001b[33mPress CTRL+C to quit\u001b[0m\n",
            "INFO:werkzeug: * Restarting with stat\n"
          ]
        }
      ]
    },
    {
      "cell_type": "markdown",
      "source": [
        "Q2. How do you serve static files like images or CSS in Flask?\n"
      ],
      "metadata": {
        "id": "1dO0FN8DejT-"
      }
    },
    {
      "cell_type": "code",
      "source": [
        "from flask import Flask, send_from_directory\n",
        "\n",
        "app = Flask(__name__)\n",
        "\n",
        "@app.route('/static/<path:filename>')\n",
        "def serve_static(filename):\n",
        "    return send_from_directory('static', filename)\n",
        "if __name__ == '__main__':\n",
        "    app.run(debug=True)"
      ],
      "metadata": {
        "colab": {
          "base_uri": "https://localhost:8080/"
        },
        "id": "MhpBsSsk84xM",
        "outputId": "f58811f9-95c9-4273-ac92-43715b444e67"
      },
      "execution_count": null,
      "outputs": [
        {
          "output_type": "stream",
          "name": "stdout",
          "text": [
            " * Serving Flask app '__main__'\n",
            " * Debug mode: on\n"
          ]
        },
        {
          "output_type": "stream",
          "name": "stderr",
          "text": [
            "INFO:werkzeug:\u001b[31m\u001b[1mWARNING: This is a development server. Do not use it in a production deployment. Use a production WSGI server instead.\u001b[0m\n",
            " * Running on http://127.0.0.1:5000\n",
            "INFO:werkzeug:\u001b[33mPress CTRL+C to quit\u001b[0m\n",
            "INFO:werkzeug: * Restarting with stat\n"
          ]
        }
      ]
    },
    {
      "cell_type": "markdown",
      "source": [
        "Q3. How do you define different routes with different HTTP methods in Flask?\n",
        "\n"
      ],
      "metadata": {
        "id": "shiQpdt8gZI3"
      }
    },
    {
      "cell_type": "code",
      "source": [
        "from flask import Flask, request, jsonify\n",
        "\n",
        "app = Flask(__name__)\n",
        "\n",
        "@app.route('/get_data', methods=['GET'])\n",
        "def get_data():\n",
        "    return jsonify({\"message\": \"This is a GET request\"})\n",
        "\n",
        "@app.route('/post_data', methods=['POST'])\n",
        "def post_data():\n",
        "    data = request.get_json()\n",
        "    return jsonify({\"received_data\": data})\n",
        "\n",
        "if __name__ == '__main__':\n",
        "    app.run(debug=True)"
      ],
      "metadata": {
        "colab": {
          "base_uri": "https://localhost:8080/"
        },
        "id": "WhnjjUFe9SMu",
        "outputId": "ca95b1fd-5fc5-45d9-af06-311929c03ed3"
      },
      "execution_count": null,
      "outputs": [
        {
          "output_type": "stream",
          "name": "stdout",
          "text": [
            " * Serving Flask app '__main__'\n",
            " * Debug mode: on\n"
          ]
        },
        {
          "output_type": "stream",
          "name": "stderr",
          "text": [
            "INFO:werkzeug:\u001b[31m\u001b[1mWARNING: This is a development server. Do not use it in a production deployment. Use a production WSGI server instead.\u001b[0m\n",
            " * Running on http://127.0.0.1:5000\n",
            "INFO:werkzeug:\u001b[33mPress CTRL+C to quit\u001b[0m\n",
            "INFO:werkzeug: * Restarting with stat\n"
          ]
        }
      ]
    },
    {
      "cell_type": "markdown",
      "source": [
        "Q4.How do you render HTML templates in Flask?"
      ],
      "metadata": {
        "id": "1eA9YNp_-UOv"
      }
    },
    {
      "cell_type": "code",
      "source": [
        "from flask import Flask, render_template\n",
        "\n",
        "app = Flask(__name__)\n",
        "\n",
        "@app.route('/')\n",
        "def home():\n",
        "    return render_template('index.html')\n",
        "\n",
        "if __name__ == '__main__':\n",
        "    app.run(debug=True)"
      ],
      "metadata": {
        "colab": {
          "base_uri": "https://localhost:8080/"
        },
        "id": "MfFnTuqX_PQs",
        "outputId": "7582c46d-723e-48f0-a38a-99cccc229629"
      },
      "execution_count": null,
      "outputs": [
        {
          "output_type": "stream",
          "name": "stdout",
          "text": [
            " * Serving Flask app '__main__'\n",
            " * Debug mode: on\n"
          ]
        },
        {
          "output_type": "stream",
          "name": "stderr",
          "text": [
            "INFO:werkzeug:\u001b[31m\u001b[1mWARNING: This is a development server. Do not use it in a production deployment. Use a production WSGI server instead.\u001b[0m\n",
            " * Running on http://127.0.0.1:5000\n",
            "INFO:werkzeug:\u001b[33mPress CTRL+C to quit\u001b[0m\n",
            "INFO:werkzeug: * Restarting with stat\n"
          ]
        }
      ]
    },
    {
      "cell_type": "markdown",
      "source": [
        "Q5.How can you generate URLs for routes in Flask using url_for ?"
      ],
      "metadata": {
        "id": "2n1h0ptj_WNe"
      }
    },
    {
      "cell_type": "code",
      "source": [
        " from flask import Flask, url_for, redirect\n",
        "\n",
        " app = Flask(__name__)\n",
        "\n",
        " @app.route('/')\n",
        " def index():\n",
        "  return redirectt(url_for('hello'))\n",
        "\n",
        " @app.route('/hello')\n",
        " def hello():\n",
        "  return 'Hello, World!'\n",
        "\n",
        " if __name__ == '__main__':\n",
        "  app.run(debug=True)"
      ],
      "metadata": {
        "colab": {
          "base_uri": "https://localhost:8080/"
        },
        "id": "SsWTredF_oEr",
        "outputId": "ca967e88-56dc-4765-c1c5-c68855608854"
      },
      "execution_count": null,
      "outputs": [
        {
          "output_type": "stream",
          "name": "stdout",
          "text": [
            " * Serving Flask app '__main__'\n",
            " * Debug mode: on\n"
          ]
        },
        {
          "output_type": "stream",
          "name": "stderr",
          "text": [
            "INFO:werkzeug:\u001b[31m\u001b[1mWARNING: This is a development server. Do not use it in a production deployment. Use a production WSGI server instead.\u001b[0m\n",
            " * Running on http://127.0.0.1:5000\n",
            "INFO:werkzeug:\u001b[33mPress CTRL+C to quit\u001b[0m\n",
            "INFO:werkzeug: * Restarting with stat\n"
          ]
        }
      ]
    },
    {
      "cell_type": "markdown",
      "source": [
        "Q6.How do you handle forms in Flask?"
      ],
      "metadata": {
        "id": "hQo9GhoSApq1"
      }
    },
    {
      "cell_type": "code",
      "source": [
        "from flask import Flask, render_template, request\n",
        "\n",
        "app = Flask(__name__)\n",
        "\n",
        "@app.route('/', methods=['GET', 'POST'])\n",
        "def index():\n",
        "    if request.method == 'POST':\n",
        "        name = request.form['name']\n",
        "        return f'Hello, {name}!'\n",
        "    return render_template('form.html')\n",
        "\n",
        "if __name__ == '__main__':\n",
        "    app.run(debug=True)"
      ],
      "metadata": {
        "colab": {
          "base_uri": "https://localhost:8080/"
        },
        "id": "eRR5gJT4BTOM",
        "outputId": "52defbc6-eeeb-4c25-c707-32d82fd665af"
      },
      "execution_count": null,
      "outputs": [
        {
          "output_type": "stream",
          "name": "stdout",
          "text": [
            " * Serving Flask app '__main__'\n",
            " * Debug mode: on\n"
          ]
        },
        {
          "output_type": "stream",
          "name": "stderr",
          "text": [
            "INFO:werkzeug:\u001b[31m\u001b[1mWARNING: This is a development server. Do not use it in a production deployment. Use a production WSGI server instead.\u001b[0m\n",
            " * Running on http://127.0.0.1:5000\n",
            "INFO:werkzeug:\u001b[33mPress CTRL+C to quit\u001b[0m\n",
            "INFO:werkzeug: * Restarting with stat\n"
          ]
        }
      ]
    },
    {
      "cell_type": "markdown",
      "source": [
        "Q7.How can you validate form data in Flask ?"
      ],
      "metadata": {
        "id": "cxs5vXRoB2_z"
      }
    },
    {
      "cell_type": "code",
      "source": [
        "app.route('/', methods=['POST', 'GET' ])\n",
        "def validate():\n",
        "  if request.method == 'POST':\n",
        "    name = request.form.get['name']\n",
        "    if not name:\n",
        "      return 'Name is required'\n",
        "      return f'Hello, {name}!'\n",
        "  return render_template('form.html')\n",
        "if __name__ == '__main__':\n",
        "    app.run(debug=True)"
      ],
      "metadata": {
        "colab": {
          "base_uri": "https://localhost:8080/"
        },
        "id": "kNWVgL1kCOYT",
        "outputId": "a9c669b8-ae81-4568-de87-3eadc659a698"
      },
      "execution_count": null,
      "outputs": [
        {
          "output_type": "stream",
          "name": "stdout",
          "text": [
            " * Serving Flask app '__main__'\n",
            " * Debug mode: on\n"
          ]
        },
        {
          "output_type": "stream",
          "name": "stderr",
          "text": [
            "INFO:werkzeug:\u001b[31m\u001b[1mWARNING: This is a development server. Do not use it in a production deployment. Use a production WSGI server instead.\u001b[0m\n",
            " * Running on http://127.0.0.1:5000\n",
            "INFO:werkzeug:\u001b[33mPress CTRL+C to quit\u001b[0m\n",
            "INFO:werkzeug: * Restarting with stat\n"
          ]
        }
      ]
    },
    {
      "cell_type": "markdown",
      "source": [
        "Q8.How do you manage sessions in Flask?"
      ],
      "metadata": {
        "id": "Yk3az2brDWxh"
      }
    },
    {
      "cell_type": "code",
      "source": [
        "from flask import Flask, session, redirect, url_for, request\n",
        "\n",
        "app = Flask(__name__)\n",
        "app.secret_key = 'secret_key'\n",
        "\n",
        "@app.route('/', methods=['GET', 'POST'])\n",
        "def login():\n",
        "    if request.method == 'POST':\n",
        "        session['username'] = request.form['username']\n",
        "        return redirect(url_for('profile'))\n",
        "    return '''\n",
        "        <form method=\"post\">\n",
        "            <input type=\"text\" name=\"username\">\n",
        "            <input type=\"submit\">\n",
        "        </form>\n",
        "    '''\n",
        "\n",
        "@app.route('/profile')\n",
        "def profile():\n",
        "    return f\"Logged in as {session['username']}\""
      ],
      "metadata": {
        "id": "1pwalnPn8CcU"
      },
      "execution_count": 2,
      "outputs": []
    },
    {
      "cell_type": "markdown",
      "source": [
        "Q9. How do you redirect to a different route in Flask?\n"
      ],
      "metadata": {
        "id": "saFYdEry8XPE"
      }
    },
    {
      "cell_type": "code",
      "source": [
        "from flask import Flask, redirect, url_for\n",
        "\n",
        "app = Flask(__name__)\n",
        "\n",
        "@app.route('/')\n",
        "def index():\n",
        "    return redirect(url_for('hello'))\n",
        "\n",
        "@app.route('/hello')\n",
        "def hello():\n",
        "    return \"Welcome!\""
      ],
      "metadata": {
        "id": "VUu5Lr7p83nk"
      },
      "execution_count": 4,
      "outputs": []
    },
    {
      "cell_type": "markdown",
      "source": [
        "Q10. How do you handle errors in Flask (e.g., 404)?\n"
      ],
      "metadata": {
        "id": "gVnOCC3084GK"
      }
    },
    {
      "cell_type": "code",
      "source": [
        "@app.errorhandler(404)\n",
        "def page_not_found(e):\n",
        "    return \"Page not found!\", 404"
      ],
      "metadata": {
        "id": "ufwVuoIE9APR"
      },
      "execution_count": 5,
      "outputs": []
    },
    {
      "cell_type": "markdown",
      "source": [
        "Q11. How do you structure a Flask app using Blueprints?\n"
      ],
      "metadata": {
        "id": "nxcuO-QA9AzQ"
      }
    },
    {
      "cell_type": "code",
      "source": [
        "from flask import Blueprint\n",
        "\n",
        "auth = Blueprint('auth', __name__)\n",
        "\n",
        "@auth.route('/login')\n",
        "def login():\n",
        "    return \"Login Page\""
      ],
      "metadata": {
        "id": "YRmL1owD_n-z"
      },
      "execution_count": 12,
      "outputs": []
    },
    {
      "cell_type": "markdown",
      "source": [
        "Q12. How do you define a custom Jinja filter in Flask?\n"
      ],
      "metadata": {
        "id": "AjiHZvbG9GSS"
      }
    },
    {
      "cell_type": "code",
      "source": [
        "@app.template_filter('reverse')\n",
        "def reverse_filter(s):\n",
        "    return s[::-1]\n",
        "\n",
        "@app.route('/', endpoint='index_with_filter')\n",
        "def index():\n",
        "    return render_template('index.html', name='Flask')"
      ],
      "metadata": {
        "id": "CbTW6xw-9L1V"
      },
      "execution_count": 14,
      "outputs": []
    },
    {
      "cell_type": "markdown",
      "source": [
        "Q13. How can you redirect with query parameters in Flask?"
      ],
      "metadata": {
        "id": "tXFYRjEt9NDI"
      }
    },
    {
      "cell_type": "code",
      "source": [
        "from flask import Flask, redirect, url_for, request\n",
        "\n",
        "app = Flask(__name__)\n",
        "\n",
        "@app.route('/')\n",
        "def home():\n",
        "    return redirect(url_for('hello', name='PW'))\n",
        "\n",
        "@app.route('/hello')\n",
        "def hello():\n",
        "    name = request.args.get('name')\n",
        "    return f'Hello {name}!'"
      ],
      "metadata": {
        "id": "2m90yv9B9TNr"
      },
      "execution_count": 16,
      "outputs": []
    },
    {
      "cell_type": "markdown",
      "source": [
        "Q14. How do you return JSON responses in Flask?\n"
      ],
      "metadata": {
        "id": "Xw9Zbk3C9TyE"
      }
    },
    {
      "cell_type": "code",
      "source": [
        "from flask import Flask, jsonify\n",
        "\n",
        "app = Flask(__name__)\n",
        "\n",
        "@app.route('/api')\n",
        "def api():\n",
        "    return jsonify({'name': 'PW Skills', 'course': 'Flask'})"
      ],
      "metadata": {
        "id": "3l_y_mVz9ZWi"
      },
      "execution_count": 17,
      "outputs": []
    },
    {
      "cell_type": "markdown",
      "source": [
        "\n",
        "Q15. How do you capture URL parameters in Flask?\n"
      ],
      "metadata": {
        "id": "tds8E6js9Z5q"
      }
    },
    {
      "cell_type": "code",
      "source": [
        "@app.route('/user/<username>')\n",
        "def show_user(username):\n",
        "    return f'Hello, {username}!'"
      ],
      "metadata": {
        "id": "36xFXuRa9hYz"
      },
      "execution_count": 18,
      "outputs": []
    }
  ]
}